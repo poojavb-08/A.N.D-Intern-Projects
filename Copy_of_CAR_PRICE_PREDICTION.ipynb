{
  "cells": [
    {
      "cell_type": "code",
      "execution_count": null,
      "id": "b4725305",
      "metadata": {
        "id": "b4725305"
      },
      "outputs": [],
      "source": [
        "import warnings"
      ]
    },
    {
      "cell_type": "code",
      "execution_count": null,
      "id": "88ebe8a6",
      "metadata": {
        "id": "88ebe8a6"
      },
      "outputs": [],
      "source": [
        "import pandas as pd"
      ]
    },
    {
      "cell_type": "code",
      "execution_count": null,
      "id": "c907cd2c",
      "metadata": {
        "id": "c907cd2c"
      },
      "outputs": [],
      "source": [
        "data=pd.read_csv('used_car_dataset.csv')"
      ]
    },
    {
      "cell_type": "code",
      "execution_count": null,
      "id": "7a07292e",
      "metadata": {
        "id": "7a07292e",
        "outputId": "f24b9990-2e9f-4053-8d6b-53a73630861c"
      },
      "outputs": [
        {
          "data": {
            "text/html": [
              "<div>\n",
              "<style scoped>\n",
              "    .dataframe tbody tr th:only-of-type {\n",
              "        vertical-align: middle;\n",
              "    }\n",
              "\n",
              "    .dataframe tbody tr th {\n",
              "        vertical-align: top;\n",
              "    }\n",
              "\n",
              "    .dataframe thead th {\n",
              "        text-align: right;\n",
              "    }\n",
              "</style>\n",
              "<table border=\"1\" class=\"dataframe\">\n",
              "  <thead>\n",
              "    <tr style=\"text-align: right;\">\n",
              "      <th></th>\n",
              "      <th>car_name</th>\n",
              "      <th>car_price_in_rupees</th>\n",
              "      <th>kms_driven</th>\n",
              "      <th>fuel_type</th>\n",
              "      <th>city</th>\n",
              "      <th>year_of_manufacture</th>\n",
              "    </tr>\n",
              "  </thead>\n",
              "  <tbody>\n",
              "    <tr>\n",
              "      <th>0</th>\n",
              "      <td>Hyundai Grand i10 Magna 1.2 Kappa VTVT [2017-2...</td>\n",
              "      <td>₹ 4.45 Lakh</td>\n",
              "      <td>22,402 km</td>\n",
              "      <td>Petrol</td>\n",
              "      <td>Mumbai</td>\n",
              "      <td>2016</td>\n",
              "    </tr>\n",
              "    <tr>\n",
              "      <th>1</th>\n",
              "      <td>Maruti Suzuki Alto 800 Lxi</td>\n",
              "      <td>₹ 2.93 Lakh</td>\n",
              "      <td>10,344 km</td>\n",
              "      <td>Petrol</td>\n",
              "      <td>Kolkata</td>\n",
              "      <td>2019</td>\n",
              "    </tr>\n",
              "    <tr>\n",
              "      <th>2</th>\n",
              "      <td>Tata Safari XZ Plus New</td>\n",
              "      <td>₹ 22.49 Lakh</td>\n",
              "      <td>12,999 km</td>\n",
              "      <td>Diesel</td>\n",
              "      <td>Bangalore</td>\n",
              "      <td>2021</td>\n",
              "    </tr>\n",
              "    <tr>\n",
              "      <th>3</th>\n",
              "      <td>Maruti Suzuki Ciaz ZXI+</td>\n",
              "      <td>₹ 6.95 Lakh</td>\n",
              "      <td>45,000 km</td>\n",
              "      <td>Petrol</td>\n",
              "      <td>Thane</td>\n",
              "      <td>2016</td>\n",
              "    </tr>\n",
              "    <tr>\n",
              "      <th>4</th>\n",
              "      <td>Jeep Compass Sport Plus 1.4 Petrol [2019-2020]</td>\n",
              "      <td>₹ 12 Lakh</td>\n",
              "      <td>11,193 km</td>\n",
              "      <td>Petrol</td>\n",
              "      <td>Kolkata</td>\n",
              "      <td>2019</td>\n",
              "    </tr>\n",
              "  </tbody>\n",
              "</table>\n",
              "</div>"
            ],
            "text/plain": [
              "                                            car_name car_price_in_rupees  \\\n",
              "0  Hyundai Grand i10 Magna 1.2 Kappa VTVT [2017-2...         ₹ 4.45 Lakh   \n",
              "1                         Maruti Suzuki Alto 800 Lxi         ₹ 2.93 Lakh   \n",
              "2                            Tata Safari XZ Plus New        ₹ 22.49 Lakh   \n",
              "3                            Maruti Suzuki Ciaz ZXI+         ₹ 6.95 Lakh   \n",
              "4     Jeep Compass Sport Plus 1.4 Petrol [2019-2020]           ₹ 12 Lakh   \n",
              "\n",
              "  kms_driven fuel_type       city  year_of_manufacture  \n",
              "0  22,402 km    Petrol     Mumbai                 2016  \n",
              "1  10,344 km    Petrol    Kolkata                 2019  \n",
              "2  12,999 km    Diesel  Bangalore                 2021  \n",
              "3  45,000 km    Petrol      Thane                 2016  \n",
              "4  11,193 km    Petrol    Kolkata                 2019  "
            ]
          },
          "execution_count": 7,
          "metadata": {},
          "output_type": "execute_result"
        }
      ],
      "source": [
        "data.head()"
      ]
    },
    {
      "cell_type": "code",
      "execution_count": null,
      "id": "cb54ddea",
      "metadata": {
        "id": "cb54ddea",
        "outputId": "76707c82-f4d3-45cd-fbf8-b2273374bcc2"
      },
      "outputs": [
        {
          "data": {
            "text/html": [
              "<div>\n",
              "<style scoped>\n",
              "    .dataframe tbody tr th:only-of-type {\n",
              "        vertical-align: middle;\n",
              "    }\n",
              "\n",
              "    .dataframe tbody tr th {\n",
              "        vertical-align: top;\n",
              "    }\n",
              "\n",
              "    .dataframe thead th {\n",
              "        text-align: right;\n",
              "    }\n",
              "</style>\n",
              "<table border=\"1\" class=\"dataframe\">\n",
              "  <thead>\n",
              "    <tr style=\"text-align: right;\">\n",
              "      <th></th>\n",
              "      <th>car_name</th>\n",
              "      <th>car_price_in_rupees</th>\n",
              "      <th>kms_driven</th>\n",
              "      <th>fuel_type</th>\n",
              "      <th>city</th>\n",
              "      <th>year_of_manufacture</th>\n",
              "    </tr>\n",
              "  </thead>\n",
              "  <tbody>\n",
              "    <tr>\n",
              "      <th>2100</th>\n",
              "      <td>Ford Figo Titanium1.5 TDCi</td>\n",
              "      <td>₹ 3.6 Lakh</td>\n",
              "      <td>42,158 km</td>\n",
              "      <td>Diesel</td>\n",
              "      <td>Kolkata</td>\n",
              "      <td>2015</td>\n",
              "    </tr>\n",
              "    <tr>\n",
              "      <th>2101</th>\n",
              "      <td>MINI Cooper Countryman Cooper D</td>\n",
              "      <td>₹ 22 Lakh</td>\n",
              "      <td>68,862 km</td>\n",
              "      <td>Diesel</td>\n",
              "      <td>Hyderabad</td>\n",
              "      <td>2013</td>\n",
              "    </tr>\n",
              "    <tr>\n",
              "      <th>2102</th>\n",
              "      <td>Hyundai Verna 1.6 VTVT SX</td>\n",
              "      <td>₹ 8.38 Lakh</td>\n",
              "      <td>37,622 km</td>\n",
              "      <td>Petrol</td>\n",
              "      <td>Chennai</td>\n",
              "      <td>2018</td>\n",
              "    </tr>\n",
              "    <tr>\n",
              "      <th>2103</th>\n",
              "      <td>Maruti Suzuki Ciaz VXi+ AT</td>\n",
              "      <td>₹ 6.75 Lakh</td>\n",
              "      <td>64,726 km</td>\n",
              "      <td>Petrol</td>\n",
              "      <td>Mumbai</td>\n",
              "      <td>2017</td>\n",
              "    </tr>\n",
              "    <tr>\n",
              "      <th>2104</th>\n",
              "      <td>Hyundai Verna 1.6 VTVT SX</td>\n",
              "      <td>₹ 8.76 Lakh</td>\n",
              "      <td>29,150 km</td>\n",
              "      <td>Petrol</td>\n",
              "      <td>Pune</td>\n",
              "      <td>2017</td>\n",
              "    </tr>\n",
              "  </tbody>\n",
              "</table>\n",
              "</div>"
            ],
            "text/plain": [
              "                             car_name car_price_in_rupees kms_driven  \\\n",
              "2100       Ford Figo Titanium1.5 TDCi          ₹ 3.6 Lakh  42,158 km   \n",
              "2101  MINI Cooper Countryman Cooper D           ₹ 22 Lakh  68,862 km   \n",
              "2102        Hyundai Verna 1.6 VTVT SX         ₹ 8.38 Lakh  37,622 km   \n",
              "2103       Maruti Suzuki Ciaz VXi+ AT         ₹ 6.75 Lakh  64,726 km   \n",
              "2104        Hyundai Verna 1.6 VTVT SX         ₹ 8.76 Lakh  29,150 km   \n",
              "\n",
              "     fuel_type       city  year_of_manufacture  \n",
              "2100    Diesel    Kolkata                 2015  \n",
              "2101    Diesel  Hyderabad                 2013  \n",
              "2102    Petrol    Chennai                 2018  \n",
              "2103    Petrol     Mumbai                 2017  \n",
              "2104    Petrol       Pune                 2017  "
            ]
          },
          "execution_count": 8,
          "metadata": {},
          "output_type": "execute_result"
        }
      ],
      "source": [
        "data.tail()"
      ]
    },
    {
      "cell_type": "code",
      "execution_count": null,
      "id": "fde69111",
      "metadata": {
        "id": "fde69111",
        "outputId": "70cbccfd-e0bb-410b-f445-265bcf34d8c9"
      },
      "outputs": [
        {
          "data": {
            "text/plain": [
              "(2105, 6)"
            ]
          },
          "execution_count": 9,
          "metadata": {},
          "output_type": "execute_result"
        }
      ],
      "source": [
        "data.shape"
      ]
    },
    {
      "cell_type": "code",
      "execution_count": null,
      "id": "7f5ebb3a",
      "metadata": {
        "id": "7f5ebb3a",
        "outputId": "70cc2fe5-db13-4606-ec54-0cc3d4df9434"
      },
      "outputs": [
        {
          "name": "stdout",
          "output_type": "stream",
          "text": [
            "Number of rows 2105\n",
            "Number of columns 6\n"
          ]
        }
      ],
      "source": [
        "print(\"Number of rows\",data.shape[0])\n",
        "print(\"Number of columns\",data.shape[1])"
      ]
    },
    {
      "cell_type": "code",
      "execution_count": null,
      "id": "3d08012a",
      "metadata": {
        "id": "3d08012a",
        "outputId": "e06db7a9-f229-4492-b074-9f41affa66ff"
      },
      "outputs": [
        {
          "name": "stdout",
          "output_type": "stream",
          "text": [
            "<class 'pandas.core.frame.DataFrame'>\n",
            "RangeIndex: 2105 entries, 0 to 2104\n",
            "Data columns (total 6 columns):\n",
            " #   Column               Non-Null Count  Dtype \n",
            "---  ------               --------------  ----- \n",
            " 0   car_name             2105 non-null   object\n",
            " 1   car_price_in_rupees  2105 non-null   object\n",
            " 2   kms_driven           2105 non-null   object\n",
            " 3   fuel_type            2105 non-null   object\n",
            " 4   city                 2105 non-null   object\n",
            " 5   year_of_manufacture  2105 non-null   int64 \n",
            "dtypes: int64(1), object(5)\n",
            "memory usage: 98.8+ KB\n"
          ]
        }
      ],
      "source": [
        "data.info()"
      ]
    },
    {
      "cell_type": "code",
      "execution_count": null,
      "id": "f13d6b13",
      "metadata": {
        "id": "f13d6b13",
        "outputId": "889bc7f7-ce83-48ae-a127-d2e61ff21bd2"
      },
      "outputs": [
        {
          "data": {
            "text/plain": [
              "car_name               0\n",
              "car_price_in_rupees    0\n",
              "kms_driven             0\n",
              "fuel_type              0\n",
              "city                   0\n",
              "year_of_manufacture    0\n",
              "dtype: int64"
            ]
          },
          "execution_count": 12,
          "metadata": {},
          "output_type": "execute_result"
        }
      ],
      "source": [
        "data.isnull().sum()"
      ]
    },
    {
      "cell_type": "code",
      "execution_count": null,
      "id": "9d022bdb",
      "metadata": {
        "id": "9d022bdb",
        "outputId": "fabd4e3c-1624-4c79-dc61-adaf270cdc7d"
      },
      "outputs": [
        {
          "data": {
            "text/html": [
              "<div>\n",
              "<style scoped>\n",
              "    .dataframe tbody tr th:only-of-type {\n",
              "        vertical-align: middle;\n",
              "    }\n",
              "\n",
              "    .dataframe tbody tr th {\n",
              "        vertical-align: top;\n",
              "    }\n",
              "\n",
              "    .dataframe thead th {\n",
              "        text-align: right;\n",
              "    }\n",
              "</style>\n",
              "<table border=\"1\" class=\"dataframe\">\n",
              "  <thead>\n",
              "    <tr style=\"text-align: right;\">\n",
              "      <th></th>\n",
              "      <th>year_of_manufacture</th>\n",
              "    </tr>\n",
              "  </thead>\n",
              "  <tbody>\n",
              "    <tr>\n",
              "      <th>count</th>\n",
              "      <td>2105.000000</td>\n",
              "    </tr>\n",
              "    <tr>\n",
              "      <th>mean</th>\n",
              "      <td>2017.022803</td>\n",
              "    </tr>\n",
              "    <tr>\n",
              "      <th>std</th>\n",
              "      <td>2.818066</td>\n",
              "    </tr>\n",
              "    <tr>\n",
              "      <th>min</th>\n",
              "      <td>2004.000000</td>\n",
              "    </tr>\n",
              "    <tr>\n",
              "      <th>25%</th>\n",
              "      <td>2015.000000</td>\n",
              "    </tr>\n",
              "    <tr>\n",
              "      <th>50%</th>\n",
              "      <td>2017.000000</td>\n",
              "    </tr>\n",
              "    <tr>\n",
              "      <th>75%</th>\n",
              "      <td>2019.000000</td>\n",
              "    </tr>\n",
              "    <tr>\n",
              "      <th>max</th>\n",
              "      <td>2022.000000</td>\n",
              "    </tr>\n",
              "  </tbody>\n",
              "</table>\n",
              "</div>"
            ],
            "text/plain": [
              "       year_of_manufacture\n",
              "count          2105.000000\n",
              "mean           2017.022803\n",
              "std               2.818066\n",
              "min            2004.000000\n",
              "25%            2015.000000\n",
              "50%            2017.000000\n",
              "75%            2019.000000\n",
              "max            2022.000000"
            ]
          },
          "execution_count": 13,
          "metadata": {},
          "output_type": "execute_result"
        }
      ],
      "source": [
        "data.describe()"
      ]
    },
    {
      "cell_type": "code",
      "execution_count": null,
      "id": "5a88239d",
      "metadata": {
        "id": "5a88239d"
      },
      "outputs": [],
      "source": [
        "import datetime"
      ]
    },
    {
      "cell_type": "code",
      "execution_count": null,
      "id": "94c9f006",
      "metadata": {
        "id": "94c9f006"
      },
      "outputs": [],
      "source": [
        "date_time=datetime.datetime.now()"
      ]
    },
    {
      "cell_type": "code",
      "execution_count": null,
      "id": "15b03fc6",
      "metadata": {
        "id": "15b03fc6"
      },
      "outputs": [],
      "source": [
        "data['Age']=date_time.year - data['year_of_manufacture']"
      ]
    },
    {
      "cell_type": "code",
      "execution_count": null,
      "id": "fc4fdee9",
      "metadata": {
        "id": "fc4fdee9",
        "outputId": "983ae94b-9d77-4065-9928-2b26d22447d8"
      },
      "outputs": [
        {
          "data": {
            "text/html": [
              "<div>\n",
              "<style scoped>\n",
              "    .dataframe tbody tr th:only-of-type {\n",
              "        vertical-align: middle;\n",
              "    }\n",
              "\n",
              "    .dataframe tbody tr th {\n",
              "        vertical-align: top;\n",
              "    }\n",
              "\n",
              "    .dataframe thead th {\n",
              "        text-align: right;\n",
              "    }\n",
              "</style>\n",
              "<table border=\"1\" class=\"dataframe\">\n",
              "  <thead>\n",
              "    <tr style=\"text-align: right;\">\n",
              "      <th></th>\n",
              "      <th>car_name</th>\n",
              "      <th>car_price_in_rupees</th>\n",
              "      <th>kms_driven</th>\n",
              "      <th>fuel_type</th>\n",
              "      <th>city</th>\n",
              "      <th>year_of_manufacture</th>\n",
              "      <th>Age</th>\n",
              "    </tr>\n",
              "  </thead>\n",
              "  <tbody>\n",
              "    <tr>\n",
              "      <th>0</th>\n",
              "      <td>Hyundai Grand i10 Magna 1.2 Kappa VTVT [2017-2...</td>\n",
              "      <td>₹ 4.45 Lakh</td>\n",
              "      <td>22,402 km</td>\n",
              "      <td>Petrol</td>\n",
              "      <td>Mumbai</td>\n",
              "      <td>2016</td>\n",
              "      <td>8</td>\n",
              "    </tr>\n",
              "  </tbody>\n",
              "</table>\n",
              "</div>"
            ],
            "text/plain": [
              "                                            car_name car_price_in_rupees  \\\n",
              "0  Hyundai Grand i10 Magna 1.2 Kappa VTVT [2017-2...         ₹ 4.45 Lakh   \n",
              "\n",
              "  kms_driven fuel_type    city  year_of_manufacture  Age  \n",
              "0  22,402 km    Petrol  Mumbai                 2016    8  "
            ]
          },
          "execution_count": 17,
          "metadata": {},
          "output_type": "execute_result"
        }
      ],
      "source": [
        "data.head(1)"
      ]
    },
    {
      "cell_type": "code",
      "execution_count": null,
      "id": "a640bc3e",
      "metadata": {
        "id": "a640bc3e"
      },
      "outputs": [],
      "source": [
        "import seaborn as sns"
      ]
    },
    {
      "cell_type": "code",
      "execution_count": null,
      "id": "167db115",
      "metadata": {
        "id": "167db115"
      },
      "outputs": [],
      "source": [
        "data['car_price_in_rupees'] = data['car_price_in_rupees'].astype(str).str.replace('₹', '').str.replace(' Lakh', '').str.replace(' Crore', '').str.replace(',', '').astype(float)"
      ]
    },
    {
      "cell_type": "code",
      "execution_count": null,
      "id": "347a52db",
      "metadata": {
        "id": "347a52db"
      },
      "outputs": [],
      "source": [
        "data['kms_driven'] = data['kms_driven'].astype(str).str.replace(',', '').str.replace(' km', '').astype(float)"
      ]
    },
    {
      "cell_type": "code",
      "execution_count": null,
      "id": "0e2ef63e",
      "metadata": {
        "id": "0e2ef63e",
        "outputId": "1fa30f0d-a059-4527-a4e1-01cc63ac57d8"
      },
      "outputs": [
        {
          "name": "stderr",
          "output_type": "stream",
          "text": [
            "C:\\Users\\mayas\\anaconda3\\lib\\site-packages\\seaborn\\_decorators.py:36: FutureWarning: Pass the following variable as a keyword arg: x. From version 0.12, the only valid positional argument will be `data`, and passing other arguments without an explicit keyword will result in an error or misinterpretation.\n",
            "  warnings.warn(\n"
          ]
        },
        {
          "data": {
            "text/plain": [
              "<AxesSubplot:xlabel='car_price_in_rupees'>"
            ]
          },
          "execution_count": 21,
          "metadata": {},
          "output_type": "execute_result"
        },
        {
          "data": {
            "image/png": "[encoded data removed]",
            "text/plain": [
              "<Figure size 640x480 with 1 Axes>"
            ]
          },
          "metadata": {},
          "output_type": "display_data"
        }
      ],
      "source": [
        "sns.boxplot(data['car_price_in_rupees'])"
      ]
    },
    {
      "cell_type": "code",
      "execution_count": null,
      "id": "e9bc73e0",
      "metadata": {
        "id": "e9bc73e0",
        "outputId": "ce5c84b2-a09c-420f-9d44-fb6a8926af65"
      },
      "outputs": [
        {
          "data": {
            "text/plain": [
              "[99991.0,\n",
              " 60000.0,\n",
              " 95.0,\n",
              " 93.0,\n",
              " 86.0,\n",
              " 85.0,\n",
              " 81.0,\n",
              " 78.99,\n",
              " 78.57,\n",
              " 77.0,\n",
              " 77.0,\n",
              " 77.0,\n",
              " 74.0,\n",
              " 72.0,\n",
              " 70.0,\n",
              " 70.0,\n",
              " 69.95,\n",
              " 69.75,\n",
              " 69.0,\n",
              " 68.99,\n",
              " 68.0,\n",
              " 68.0,\n",
              " 66.0,\n",
              " 65.0,\n",
              " 64.99,\n",
              " 64.5,\n",
              " 64.0,\n",
              " 63.0,\n",
              " 62.5,\n",
              " 61.75,\n",
              " 61.5,\n",
              " 61.0,\n",
              " 60.0,\n",
              " 59.99,\n",
              " 59.5,\n",
              " 59.0,\n",
              " 59.0,\n",
              " 58.0,\n",
              " 57.5,\n",
              " 57.5,\n",
              " 55.0,\n",
              " 54.0,\n",
              " 54.0,\n",
              " 53.55,\n",
              " 53.0,\n",
              " 53.0,\n",
              " 53.0,\n",
              " 52.0,\n",
              " 52.0,\n",
              " 51.95,\n",
              " 49.5,\n",
              " 49.5,\n",
              " 49.0,\n",
              " 48.5,\n",
              " 48.5,\n",
              " 48.5,\n",
              " 48.0,\n",
              " 48.0,\n",
              " 47.9,\n",
              " 47.5,\n",
              " 47.5,\n",
              " 47.0,\n",
              " 47.0,\n",
              " 46.6,\n",
              " 46.0,\n",
              " 46.0,\n",
              " 45.99,\n",
              " 45.0,\n",
              " 44.75,\n",
              " 44.5,\n",
              " 44.37,\n",
              " 44.0,\n",
              " 44.0,\n",
              " 43.07,\n",
              " 43.0,\n",
              " 42.99,\n",
              " 42.85,\n",
              " 42.75,\n",
              " 42.5,\n",
              " 42.5,\n",
              " 41.99,\n",
              " 41.99,\n",
              " 41.9,\n",
              " 41.0,\n",
              " 39.5,\n",
              " 39.5,\n",
              " 39.5,\n",
              " 39.0,\n",
              " 39.0,\n",
              " 38.99,\n",
              " 38.5,\n",
              " 38.0,\n",
              " 37.85,\n",
              " 37.75,\n",
              " 37.75,\n",
              " 37.49,\n",
              " 37.0,\n",
              " 36.0,\n",
              " 36.0,\n",
              " 35.95,\n",
              " 35.95,\n",
              " 35.0,\n",
              " 35.0,\n",
              " 34.99,\n",
              " 34.99,\n",
              " 34.9,\n",
              " 33.75,\n",
              " 33.5,\n",
              " 33.25,\n",
              " 33.0,\n",
              " 33.0,\n",
              " 33.0,\n",
              " 33.0,\n",
              " 32.99,\n",
              " 32.99,\n",
              " 32.95,\n",
              " 32.75,\n",
              " 32.75,\n",
              " 32.75,\n",
              " 32.6,\n",
              " 32.5,\n",
              " 32.5,\n",
              " 32.5,\n",
              " 32.5,\n",
              " 32.5,\n",
              " 32.5,\n",
              " 32.0,\n",
              " 32.0,\n",
              " 32.0,\n",
              " 31.89,\n",
              " 31.75,\n",
              " 31.5,\n",
              " 31.43,\n",
              " 31.25,\n",
              " 31.0,\n",
              " 31.0,\n",
              " 30.56,\n",
              " 30.5,\n",
              " 30.5,\n",
              " 30.0,\n",
              " 29.95,\n",
              " 29.75,\n",
              " 29.75,\n",
              " 29.75,\n",
              " 29.75,\n",
              " 29.5,\n",
              " 29.5,\n",
              " 29.5,\n",
              " 29.0,\n",
              " 28.78,\n",
              " 28.75,\n",
              " 28.5,\n",
              " 28.0,\n",
              " 28.0,\n",
              " 28.0,\n",
              " 27.99,\n",
              " 27.85,\n",
              " 27.51,\n",
              " 27.5,\n",
              " 27.0,\n",
              " 27.0,\n",
              " 27.0,\n",
              " 27.0,\n",
              " 26.99,\n",
              " 26.75,\n",
              " 26.5,\n",
              " 26.5,\n",
              " 26.49,\n",
              " 26.15,\n",
              " 26.0,\n",
              " 26.0,\n",
              " 25.9,\n",
              " 25.59,\n",
              " 25.5,\n",
              " 25.0,\n",
              " 25.0,\n",
              " 25.0,\n",
              " 25.0,\n",
              " 25.0,\n",
              " 24.95,\n",
              " 24.85,\n",
              " 24.75,\n",
              " 24.75,\n",
              " 24.75,\n",
              " 24.75,\n",
              " 24.5,\n",
              " 24.5,\n",
              " 24.5,\n",
              " 24.49,\n",
              " 24.26,\n",
              " 24.0,\n",
              " 24.0,\n",
              " 24.0,\n",
              " 24.0,\n",
              " 24.0,\n",
              " 24.0,\n",
              " 23.95,\n",
              " 23.95,\n",
              " 23.76,\n",
              " 23.75,\n",
              " 23.49,\n",
              " 23.0,\n",
              " 23.0,\n",
              " 23.0,\n",
              " 22.99,\n",
              " 22.95,\n",
              " 22.9,\n",
              " 22.88,\n",
              " 22.87,\n",
              " 22.57,\n",
              " 22.51,\n",
              " 22.5,\n",
              " 22.5,\n",
              " 22.5,\n",
              " 22.5,\n",
              " 22.5,\n",
              " 22.5,\n",
              " 22.5,\n",
              " 22.5,\n",
              " 22.49,\n",
              " 22.25,\n",
              " 22.0,\n",
              " 22.0,\n",
              " 22.0,\n",
              " 22.0,\n",
              " 21.8,\n",
              " 21.75,\n",
              " 21.75,\n",
              " 21.75,\n",
              " 21.5,\n",
              " 21.5,\n",
              " 21.5,\n",
              " 21.5,\n",
              " 21.49,\n",
              " 21.45,\n",
              " 21.45,\n",
              " 21.45,\n",
              " 21.43,\n",
              " 21.0,\n",
              " 21.0,\n",
              " 21.0,\n",
              " 20.99,\n",
              " 20.95,\n",
              " 20.7,\n",
              " 20.5,\n",
              " 20.49,\n",
              " 20.31,\n",
              " 20.0,\n",
              " 20.0,\n",
              " 19.99,\n",
              " 19.95,\n",
              " 19.95,\n",
              " 19.9,\n",
              " 19.9,\n",
              " 19.75,\n",
              " 19.75,\n",
              " 19.75,\n",
              " 19.56,\n",
              " 19.5,\n",
              " 19.5,\n",
              " 19.5,\n",
              " 19.45,\n",
              " 19.4,\n",
              " 19.25,\n",
              " 19.25,\n",
              " 19.25,\n",
              " 19.25,\n",
              " 19.25,\n",
              " 19.25,\n",
              " 19.2,\n",
              " 19.19,\n",
              " 19.19,\n",
              " 19.0,\n",
              " 19.0,\n",
              " 18.99,\n",
              " 18.95,\n",
              " 18.95,\n",
              " 18.95,\n",
              " 18.95,\n",
              " 18.9,\n",
              " 18.9,\n",
              " 18.9,\n",
              " 18.9,\n",
              " 18.75,\n",
              " 18.75,\n",
              " 18.75,\n",
              " 18.75,\n",
              " 18.75,\n",
              " 18.66,\n",
              " 18.65,\n",
              " 18.51,\n",
              " 18.5,\n",
              " 18.5,\n",
              " 18.5,\n",
              " 18.5,\n",
              " 18.25,\n",
              " 18.25,\n",
              " 18.0,\n",
              " 18.0,\n",
              " 18.0,\n",
              " 18.0,\n",
              " 18.0,\n",
              " 18.0,\n",
              " 18.0,\n",
              " 17.99,\n",
              " 17.99,\n",
              " 17.99,\n",
              " 17.95,\n",
              " 17.91,\n",
              " 17.9,\n",
              " 17.9,\n",
              " 17.9,\n",
              " 17.5,\n",
              " 17.5,\n",
              " 17.49,\n",
              " 17.45,\n",
              " 17.25,\n",
              " 17.25,\n",
              " 17.1,\n",
              " 17.0,\n",
              " 17.0,\n",
              " 17.0,\n",
              " 16.99,\n",
              " 16.99,\n",
              " 16.99,\n",
              " 16.99,\n",
              " 16.99,\n",
              " 16.95,\n",
              " 16.95,\n",
              " 16.95,\n",
              " 16.95,\n",
              " 16.92,\n",
              " 16.92,\n",
              " 16.9,\n",
              " 16.9,\n",
              " 16.9,\n",
              " 16.85,\n",
              " 16.85,\n",
              " 16.82,\n",
              " 16.75,\n",
              " 16.75,\n",
              " 16.75,\n",
              " 16.67,\n",
              " 16.59,\n",
              " 16.58,\n",
              " 16.5,\n",
              " 16.5,\n",
              " 16.5,\n",
              " 16.5,\n",
              " 16.5,\n",
              " 16.5,\n",
              " 16.5,\n",
              " 16.49,\n",
              " 16.49,\n",
              " 16.49,\n",
              " 16.49,\n",
              " 16.49,\n",
              " 16.49,\n",
              " 16.31,\n",
              " 16.25,\n",
              " 16.25,\n",
              " 16.2,\n",
              " 16.2,\n",
              " 16.2,\n",
              " 16.11,\n",
              " 16.06,\n",
              " 16.0,\n",
              " 16.0,\n",
              " 16.0,\n",
              " 16.0,\n",
              " 15.99,\n",
              " 15.99,\n",
              " 15.99,\n",
              " 15.98,\n",
              " 15.95,\n",
              " 15.9,\n",
              " 15.9,\n",
              " 15.8,\n",
              " 15.79,\n",
              " 15.75,\n",
              " 15.74,\n",
              " 15.51,\n",
              " 15.51,\n",
              " 15.5,\n",
              " 15.5,\n",
              " 15.5,\n",
              " 15.5,\n",
              " 15.5,\n",
              " 15.5,\n",
              " 15.5,\n",
              " 15.5,\n",
              " 15.49,\n",
              " 15.45,\n",
              " 15.45,\n",
              " 15.4,\n",
              " 15.3,\n",
              " 15.25,\n",
              " 15.25,\n",
              " 15.23,\n",
              " 15.21,\n",
              " 15.13,\n",
              " 15.13,\n",
              " 15.11,\n",
              " 15.0,\n",
              " 15.0,\n",
              " 15.0,\n",
              " 15.0,\n",
              " 15.0,\n",
              " 15.0,\n",
              " 15.0,\n",
              " 14.99,\n",
              " 14.99,\n",
              " 14.99,\n",
              " 14.91,\n",
              " 14.9,\n",
              " 14.9,\n",
              " 14.9,\n",
              " 14.9,\n",
              " 14.9,\n",
              " 14.85,\n",
              " 14.75,\n",
              " 14.75,\n",
              " 14.75,\n",
              " 14.65,\n",
              " 14.56,\n",
              " 14.5,\n",
              " 14.5,\n",
              " 14.5,\n",
              " 14.5,\n",
              " 14.45,\n",
              " 14.45,\n",
              " 14.35,\n",
              " 14.25,\n",
              " 14.19,\n",
              " 14.0,\n",
              " 13.95,\n",
              " 13.95,\n",
              " 13.95,\n",
              " 13.95,\n",
              " 13.95,\n",
              " 13.94,\n",
              " 13.9,\n",
              " 13.83,\n",
              " 13.75,\n",
              " 13.69,\n",
              " 13.53,\n",
              " 13.5,\n",
              " 13.5,\n",
              " 13.5,\n",
              " 13.5,\n",
              " 13.5,\n",
              " 13.5,\n",
              " 13.5,\n",
              " 13.5,\n",
              " 13.41,\n",
              " 13.25,\n",
              " 13.25,\n",
              " 13.25,\n",
              " 13.2,\n",
              " 13.0,\n",
              " 13.0,\n",
              " 13.0,\n",
              " 12.99,\n",
              " 12.99,\n",
              " 12.95,\n",
              " 12.9,\n",
              " 12.9,\n",
              " 12.85,\n",
              " 12.85,\n",
              " 12.85,\n",
              " 12.85,\n",
              " 12.75,\n",
              " 12.75,\n",
              " 12.75,\n",
              " 12.75,\n",
              " 12.75,\n",
              " 12.75,\n",
              " 12.75,\n",
              " 12.65,\n",
              " 12.6,\n",
              " 12.56,\n",
              " 12.51,\n",
              " 12.5,\n",
              " 12.5,\n",
              " 12.49,\n",
              " 12.27,\n",
              " 12.27,\n",
              " 12.25,\n",
              " 12.25,\n",
              " 12.24,\n",
              " 12.13,\n",
              " 12.04,\n",
              " 12.0,\n",
              " 12.0,\n",
              " 12.0,\n",
              " 12.0,\n",
              " 12.0,\n",
              " 12.0,\n",
              " 12.0,\n",
              " 11.99,\n",
              " 11.95,\n",
              " 11.95,\n",
              " 11.95,\n",
              " 11.9,\n",
              " 11.9,\n",
              " 11.9,\n",
              " 11.9,\n",
              " 11.79,\n",
              " 11.75,\n",
              " 11.75,\n",
              " 11.75,\n",
              " 11.75,\n",
              " 11.71,\n",
              " 11.67,\n",
              " 11.61,\n",
              " 11.57,\n",
              " 11.56,\n",
              " 11.55,\n",
              " 11.52,\n",
              " 11.5,\n",
              " 11.5,\n",
              " 11.5,\n",
              " 11.5,\n",
              " 11.5,\n",
              " 11.5,\n",
              " 11.5,\n",
              " 11.5,\n",
              " 11.5,\n",
              " 11.5,\n",
              " 11.5,\n",
              " 11.5,\n",
              " 11.49,\n",
              " 11.49,\n",
              " 11.45,\n",
              " 11.45,\n",
              " 11.43,\n",
              " 11.43,\n",
              " 11.4,\n",
              " 11.4,\n",
              " 11.4,\n",
              " 11.37,\n",
              " 11.37,\n",
              " 11.36,\n",
              " 11.35,\n",
              " 11.3,\n",
              " 11.26,\n",
              " 11.26,\n",
              " 11.25,\n",
              " 11.25,\n",
              " 11.25,\n",
              " 11.25,\n",
              " 11.25,\n",
              " 11.25,\n",
              " 11.17,\n",
              " 11.05,\n",
              " 11.04,\n",
              " 11.0,\n",
              " 10.99,\n",
              " 10.97,\n",
              " 10.95,\n",
              " 10.95,\n",
              " 10.93,\n",
              " 10.9,\n",
              " 10.9,\n",
              " 10.9,\n",
              " 10.9,\n",
              " 10.87,\n",
              " 10.85,\n",
              " 10.82,\n",
              " 10.8,\n",
              " 10.76,\n",
              " 10.75,\n",
              " 10.75,\n",
              " 10.75,\n",
              " 10.75,\n",
              " 10.72,\n",
              " 10.67,\n",
              " 10.66,\n",
              " 10.65,\n",
              " 10.64,\n",
              " 10.63,\n",
              " 10.6,\n",
              " 10.59,\n",
              " 10.5,\n",
              " 10.5,\n",
              " 10.5,\n",
              " 10.5,\n",
              " 10.5,\n",
              " 10.5,\n",
              " 10.46,\n",
              " 10.45,\n",
              " 10.45,\n",
              " 10.45,\n",
              " 10.45,\n",
              " 10.44,\n",
              " 10.4,\n",
              " 10.39,\n",
              " 10.29,\n",
              " 10.29,\n",
              " 10.27,\n",
              " 10.25,\n",
              " 10.25,\n",
              " 10.25,\n",
              " 10.25,\n",
              " 10.25,\n",
              " 10.25,\n",
              " 10.25,\n",
              " 10.24,\n",
              " 10.24,\n",
              " 10.23,\n",
              " 10.23,\n",
              " 10.22,\n",
              " 10.2,\n",
              " 10.19,\n",
              " 10.13,\n",
              " 10.12,\n",
              " 10.11,\n",
              " 10.09,\n",
              " 10.06,\n",
              " 10.03,\n",
              " 10.02,\n",
              " 10.0,\n",
              " 9.99,\n",
              " 9.99,\n",
              " 9.99,\n",
              " 9.98,\n",
              " 9.98,\n",
              " 9.96,\n",
              " 9.95,\n",
              " 9.95,\n",
              " 9.92,\n",
              " 9.91,\n",
              " 9.9,\n",
              " 9.9,\n",
              " 9.9,\n",
              " 9.9,\n",
              " 9.88,\n",
              " 9.85,\n",
              " 9.85,\n",
              " 9.85,\n",
              " 9.83,\n",
              " 9.83,\n",
              " 9.8,\n",
              " 9.8,\n",
              " 9.79,\n",
              " 9.79,\n",
              " 9.78,\n",
              " 9.75,\n",
              " 9.75,\n",
              " 9.75,\n",
              " 9.75,\n",
              " 9.75,\n",
              " 9.75,\n",
              " 9.74,\n",
              " 9.7,\n",
              " 9.7,\n",
              " 9.68,\n",
              " 9.65,\n",
              " 9.64,\n",
              " 9.64,\n",
              " 9.6,\n",
              " 9.6,\n",
              " 9.59,\n",
              " 9.56,\n",
              " 9.55,\n",
              " 9.54,\n",
              " 9.51,\n",
              " 9.5,\n",
              " 9.5,\n",
              " 9.5,\n",
              " 9.5,\n",
              " 9.5,\n",
              " 9.5,\n",
              " 9.5,\n",
              " 9.5,\n",
              " 9.5,\n",
              " 9.5,\n",
              " 9.5,\n",
              " 9.5,\n",
              " 9.5,\n",
              " 9.5,\n",
              " 9.5,\n",
              " 9.49,\n",
              " 9.49,\n",
              " 9.45,\n",
              " 9.45,\n",
              " 9.45,\n",
              " 9.45,\n",
              " 9.45,\n",
              " 9.42,\n",
              " 9.42,\n",
              " 9.41,\n",
              " 9.41,\n",
              " 9.39,\n",
              " 9.36,\n",
              " 9.35,\n",
              " 9.31,\n",
              " 9.3,\n",
              " 9.29,\n",
              " 9.29,\n",
              " 9.25,\n",
              " 9.25,\n",
              " 9.25,\n",
              " 9.25,\n",
              " 9.25,\n",
              " 9.25,\n",
              " 9.25,\n",
              " 9.25,\n",
              " 9.25,\n",
              " 9.25,\n",
              " 9.25,\n",
              " 9.25,\n",
              " 9.23,\n",
              " 9.22,\n",
              " 9.14,\n",
              " 9.13,\n",
              " 9.13,\n",
              " 9.11,\n",
              " 9.11,\n",
              " 9.1,\n",
              " 9.1,\n",
              " 9.1,\n",
              " 9.01,\n",
              " 9.0,\n",
              " 9.0,\n",
              " 8.99,\n",
              " 8.99,\n",
              " 8.99,\n",
              " 8.99,\n",
              " 8.99,\n",
              " 8.99,\n",
              " 8.97,\n",
              " 8.97,\n",
              " 8.95,\n",
              " 8.95,\n",
              " 8.95,\n",
              " 8.95,\n",
              " 8.95,\n",
              " 8.95,\n",
              " 8.95,\n",
              " 8.91,\n",
              " 8.9,\n",
              " 8.9,\n",
              " 8.9,\n",
              " 8.9,\n",
              " 8.89,\n",
              " 8.87,\n",
              " 8.85,\n",
              " 8.85,\n",
              " 8.85,\n",
              " 8.85,\n",
              " 8.85,\n",
              " 8.83,\n",
              " 8.8,\n",
              " 8.8,\n",
              " 8.8,\n",
              " 8.79,\n",
              " 8.79,\n",
              " 8.79,\n",
              " 8.76,\n",
              " 8.75,\n",
              " 8.75,\n",
              " 8.75,\n",
              " 8.75,\n",
              " 8.75,\n",
              " 8.75,\n",
              " 8.75,\n",
              " 8.75,\n",
              " 8.75,\n",
              " 8.75,\n",
              " 8.75,\n",
              " 8.75,\n",
              " 8.75,\n",
              " 8.72,\n",
              " 8.71,\n",
              " 8.7,\n",
              " 8.68,\n",
              " 8.66,\n",
              " 8.65,\n",
              " 8.65,\n",
              " 8.62,\n",
              " 8.62,\n",
              " 8.62,\n",
              " 8.59,\n",
              " 8.59,\n",
              " 8.57,\n",
              " 8.57,\n",
              " 8.56,\n",
              " 8.55,\n",
              " 8.55,\n",
              " 8.53,\n",
              " 8.51,\n",
              " 8.51,\n",
              " 8.5,\n",
              " 8.5,\n",
              " 8.5,\n",
              " 8.5,\n",
              " 8.5,\n",
              " 8.5,\n",
              " 8.5,\n",
              " 8.5,\n",
              " 8.5,\n",
              " 8.5,\n",
              " 8.49,\n",
              " 8.49,\n",
              " 8.49,\n",
              " 8.49,\n",
              " 8.47,\n",
              " 8.45,\n",
              " 8.45,\n",
              " 8.45,\n",
              " 8.43,\n",
              " 8.42,\n",
              " 8.4,\n",
              " 8.4,\n",
              " 8.39,\n",
              " 8.39,\n",
              " 8.38,\n",
              " 8.35,\n",
              " 8.35,\n",
              " 8.32,\n",
              " 8.31,\n",
              " 8.3,\n",
              " 8.3,\n",
              " 8.3,\n",
              " 8.3,\n",
              " 8.3,\n",
              " 8.29,\n",
              " 8.29,\n",
              " 8.28,\n",
              " 8.25,\n",
              " 8.25,\n",
              " 8.25,\n",
              " 8.25,\n",
              " 8.25,\n",
              " 8.25,\n",
              " 8.25,\n",
              " 8.25,\n",
              " 8.25,\n",
              " 8.21,\n",
              " 8.2,\n",
              " 8.2,\n",
              " 8.15,\n",
              " 8.15,\n",
              " 8.14,\n",
              " 8.13,\n",
              " 8.13,\n",
              " 8.12,\n",
              " 8.11,\n",
              " 8.11,\n",
              " 8.11,\n",
              " 8.1,\n",
              " 8.08,\n",
              " 8.04,\n",
              " 8.01,\n",
              " 8.01,\n",
              " 8.0,\n",
              " 8.0,\n",
              " 8.0,\n",
              " 8.0,\n",
              " 8.0,\n",
              " 7.99,\n",
              " 7.99,\n",
              " 7.99,\n",
              " 7.99,\n",
              " 7.99,\n",
              " 7.99,\n",
              " 7.99,\n",
              " 7.95,\n",
              " 7.95,\n",
              " 7.95,\n",
              " 7.95,\n",
              " 7.95,\n",
              " 7.95,\n",
              " 7.95,\n",
              " 7.95,\n",
              " 7.95,\n",
              " 7.93,\n",
              " 7.91,\n",
              " 7.9,\n",
              " 7.9,\n",
              " 7.9,\n",
              " 7.9,\n",
              " 7.9,\n",
              " 7.9,\n",
              " 7.9,\n",
              " 7.9,\n",
              " 7.9,\n",
              " 7.9,\n",
              " 7.9,\n",
              " 7.89,\n",
              " 7.89,\n",
              " 7.89,\n",
              " 7.89,\n",
              " 7.85,\n",
              " 7.85,\n",
              " 7.85,\n",
              " 7.85,\n",
              " 7.85,\n",
              " 7.85,\n",
              " 7.79,\n",
              " 7.79,\n",
              " 7.79,\n",
              " 7.79,\n",
              " 7.79,\n",
              " 7.78,\n",
              " 7.78,\n",
              " 7.75,\n",
              " 7.75,\n",
              " 7.75,\n",
              " 7.75,\n",
              " 7.75,\n",
              " 7.75,\n",
              " 7.75,\n",
              " 7.75,\n",
              " 7.75,\n",
              " 7.75,\n",
              " 7.75,\n",
              " 7.75,\n",
              " 7.75,\n",
              " 7.75,\n",
              " 7.7,\n",
              " 7.7,\n",
              " 7.7,\n",
              " 7.69,\n",
              " 7.69,\n",
              " 7.69,\n",
              " 7.67,\n",
              " 7.65,\n",
              " 7.65,\n",
              " 7.65,\n",
              " 7.65,\n",
              " 7.64,\n",
              " 7.61,\n",
              " 7.61,\n",
              " 7.6,\n",
              " 7.6,\n",
              " 7.6,\n",
              " 7.59,\n",
              " 7.55,\n",
              " 7.52,\n",
              " 7.5,\n",
              " 7.5,\n",
              " 7.5,\n",
              " 7.5,\n",
              " 7.5,\n",
              " 7.5,\n",
              " 7.5,\n",
              " 7.5,\n",
              " 7.5,\n",
              " 7.5,\n",
              " 7.5,\n",
              " 7.5,\n",
              " 7.49,\n",
              " 7.49,\n",
              " 7.47,\n",
              " 7.45,\n",
              " 7.45,\n",
              " 7.45,\n",
              " 7.45,\n",
              " 7.45,\n",
              " 7.45,\n",
              " 7.45,\n",
              " 7.45,\n",
              " 7.45,\n",
              " 7.45,\n",
              " 7.45,\n",
              " 7.45,\n",
              " 7.4,\n",
              " 7.4,\n",
              " 7.4,\n",
              " 7.39,\n",
              " 7.39,\n",
              " 7.37,\n",
              " 7.35,\n",
              " 7.35,\n",
              " 7.35,\n",
              " 7.35,\n",
              " 7.35,\n",
              " 7.35,\n",
              " 7.35,\n",
              " 7.35,\n",
              " 7.34,\n",
              " 7.33,\n",
              " 7.33,\n",
              " 7.31,\n",
              " 7.31,\n",
              " 7.3,\n",
              " 7.3,\n",
              " 7.3,\n",
              " 7.3,\n",
              " 7.3,\n",
              " 7.3,\n",
              " 7.3,\n",
              " 7.3,\n",
              " 7.29,\n",
              " 7.29,\n",
              " 7.29,\n",
              " 7.25,\n",
              " 7.25,\n",
              " ...]"
            ]
          },
          "execution_count": 22,
          "metadata": {},
          "output_type": "execute_result"
        }
      ],
      "source": [
        "sorted(data['car_price_in_rupees'],reverse=True)"
      ]
    },
    {
      "cell_type": "code",
      "execution_count": null,
      "id": "4cfebdb2",
      "metadata": {
        "id": "4cfebdb2",
        "outputId": "e4c8a183-a4e4-4fd5-82ed-9ccae84469ff"
      },
      "outputs": [
        {
          "data": {
            "text/plain": [
              "array(['Petrol', 'Diesel', 'Diesel + 1', 'Electric', 'CNG', 'Petrol + 1',\n",
              "       'Hybrid', 'LPG'], dtype=object)"
            ]
          },
          "execution_count": 23,
          "metadata": {},
          "output_type": "execute_result"
        }
      ],
      "source": [
        "data['fuel_type'].unique()"
      ]
    },
    {
      "cell_type": "code",
      "execution_count": null,
      "id": "02fec0fd",
      "metadata": {
        "id": "02fec0fd"
      },
      "outputs": [],
      "source": [
        "data['fuel_type']=data['fuel_type'].map({'Petrol':0, 'Diesel':1, 'Diesel + 1':2, 'Electric':3, 'CNG':4, 'Petrol + 1':5,\n",
        "       'Hybrid':6, 'LPG':7})"
      ]
    },
    {
      "cell_type": "code",
      "execution_count": null,
      "id": "9c2651c1",
      "metadata": {
        "id": "9c2651c1",
        "outputId": "f91f760d-7454-44c4-c884-78c5f35de77e"
      },
      "outputs": [
        {
          "data": {
            "text/plain": [
              "array([0, 1, 2, 3, 4, 5, 6, 7], dtype=int64)"
            ]
          },
          "execution_count": 25,
          "metadata": {},
          "output_type": "execute_result"
        }
      ],
      "source": [
        "data['fuel_type'].unique()"
      ]
    },
    {
      "cell_type": "code",
      "execution_count": null,
      "id": "2946ee73",
      "metadata": {
        "id": "2946ee73",
        "outputId": "95579700-e6da-4b3a-e7af-f487fb723b5a"
      },
      "outputs": [
        {
          "data": {
            "text/plain": [
              "array(['Mumbai', 'Kolkata', 'Bangalore', 'Thane', 'Chennai', 'Ahmedabad',\n",
              "       'Pallikarnai', 'Hyderabad', 'Pune', 'Gurgaon', 'Delhi', 'Noida',\n",
              "       'Faridabad', 'Thiruvallur', 'Ambattur', 'Poonamallee'],\n",
              "      dtype=object)"
            ]
          },
          "execution_count": 26,
          "metadata": {},
          "output_type": "execute_result"
        }
      ],
      "source": [
        "data['city'].unique()"
      ]
    },
    {
      "cell_type": "code",
      "execution_count": null,
      "id": "bfb15203",
      "metadata": {
        "id": "bfb15203"
      },
      "outputs": [],
      "source": [
        "data['city']=data['city'].map({'Mumbai':0, 'Kolkata':1, 'Bangalore':2, 'Thane':3, 'Chennai':4, 'Ahmedabad':5,\n",
        "       'Pallikarnai':6, 'Hyderabad':7, 'Pune':8, 'Gurgaon':9, 'Delhi':10, 'Noida':11,\n",
        "       'Faridabad':12, 'Thiruvallur':13, 'Ambattur':14, 'Poonamallee':15})"
      ]
    },
    {
      "cell_type": "code",
      "execution_count": null,
      "id": "42494dca",
      "metadata": {
        "id": "42494dca",
        "outputId": "c368ee48-9f25-4848-b0d4-4e564807f0ab"
      },
      "outputs": [
        {
          "data": {
            "text/plain": [
              "array([ 0,  1,  2,  3,  4,  5,  6,  7,  8,  9, 10, 11, 12, 13, 14, 15],\n",
              "      dtype=int64)"
            ]
          },
          "execution_count": 28,
          "metadata": {},
          "output_type": "execute_result"
        }
      ],
      "source": [
        "data['city'].unique()"
      ]
    },
    {
      "cell_type": "code",
      "execution_count": null,
      "id": "c591f2de",
      "metadata": {
        "id": "c591f2de"
      },
      "outputs": [],
      "source": [
        "x=data.drop(['car_name','car_price_in_rupees'],axis=1)\n",
        "y=data['car_price_in_rupees']"
      ]
    },
    {
      "cell_type": "code",
      "execution_count": null,
      "id": "e4b3d223",
      "metadata": {
        "id": "e4b3d223",
        "outputId": "3a657122-abf8-4a5d-9135-e1a0a159019b"
      },
      "outputs": [
        {
          "data": {
            "text/plain": [
              "0        4.45\n",
              "1        2.93\n",
              "2       22.49\n",
              "3        6.95\n",
              "4       12.00\n",
              "        ...  \n",
              "2100     3.60\n",
              "2101    22.00\n",
              "2102     8.38\n",
              "2103     6.75\n",
              "2104     8.76\n",
              "Name: car_price_in_rupees, Length: 2105, dtype: float64"
            ]
          },
          "execution_count": 30,
          "metadata": {},
          "output_type": "execute_result"
        }
      ],
      "source": [
        "y"
      ]
    },
    {
      "cell_type": "code",
      "execution_count": null,
      "id": "22e1bee1",
      "metadata": {
        "id": "22e1bee1"
      },
      "outputs": [],
      "source": [
        "from sklearn.model_selection import train_test_split"
      ]
    },
    {
      "cell_type": "code",
      "execution_count": null,
      "id": "92002dcf",
      "metadata": {
        "id": "92002dcf"
      },
      "outputs": [],
      "source": [
        "x_train,x_test,y_train,y_test=train_test_split(x,y,test_size=0.20,random_state=42)"
      ]
    },
    {
      "cell_type": "code",
      "execution_count": null,
      "id": "654573f9",
      "metadata": {
        "id": "654573f9",
        "outputId": "c60d4baa-e975-47a3-d66c-d4caaa04e9a3"
      },
      "outputs": [
        {
          "data": {
            "text/html": [
              "<div>\n",
              "<style scoped>\n",
              "    .dataframe tbody tr th:only-of-type {\n",
              "        vertical-align: middle;\n",
              "    }\n",
              "\n",
              "    .dataframe tbody tr th {\n",
              "        vertical-align: top;\n",
              "    }\n",
              "\n",
              "    .dataframe thead th {\n",
              "        text-align: right;\n",
              "    }\n",
              "</style>\n",
              "<table border=\"1\" class=\"dataframe\">\n",
              "  <thead>\n",
              "    <tr style=\"text-align: right;\">\n",
              "      <th></th>\n",
              "      <th>car_name</th>\n",
              "      <th>car_price_in_rupees</th>\n",
              "      <th>kms_driven</th>\n",
              "      <th>fuel_type</th>\n",
              "      <th>city</th>\n",
              "      <th>year_of_manufacture</th>\n",
              "      <th>Age</th>\n",
              "    </tr>\n",
              "  </thead>\n",
              "  <tbody>\n",
              "    <tr>\n",
              "      <th>0</th>\n",
              "      <td>Hyundai Grand i10 Magna 1.2 Kappa VTVT [2017-2...</td>\n",
              "      <td>4.45</td>\n",
              "      <td>22402.0</td>\n",
              "      <td>0</td>\n",
              "      <td>0</td>\n",
              "      <td>2016</td>\n",
              "      <td>8</td>\n",
              "    </tr>\n",
              "    <tr>\n",
              "      <th>1</th>\n",
              "      <td>Maruti Suzuki Alto 800 Lxi</td>\n",
              "      <td>2.93</td>\n",
              "      <td>10344.0</td>\n",
              "      <td>0</td>\n",
              "      <td>1</td>\n",
              "      <td>2019</td>\n",
              "      <td>5</td>\n",
              "    </tr>\n",
              "    <tr>\n",
              "      <th>2</th>\n",
              "      <td>Tata Safari XZ Plus New</td>\n",
              "      <td>22.49</td>\n",
              "      <td>12999.0</td>\n",
              "      <td>1</td>\n",
              "      <td>2</td>\n",
              "      <td>2021</td>\n",
              "      <td>3</td>\n",
              "    </tr>\n",
              "    <tr>\n",
              "      <th>3</th>\n",
              "      <td>Maruti Suzuki Ciaz ZXI+</td>\n",
              "      <td>6.95</td>\n",
              "      <td>45000.0</td>\n",
              "      <td>0</td>\n",
              "      <td>3</td>\n",
              "      <td>2016</td>\n",
              "      <td>8</td>\n",
              "    </tr>\n",
              "    <tr>\n",
              "      <th>4</th>\n",
              "      <td>Jeep Compass Sport Plus 1.4 Petrol [2019-2020]</td>\n",
              "      <td>12.00</td>\n",
              "      <td>11193.0</td>\n",
              "      <td>0</td>\n",
              "      <td>1</td>\n",
              "      <td>2019</td>\n",
              "      <td>5</td>\n",
              "    </tr>\n",
              "  </tbody>\n",
              "</table>\n",
              "</div>"
            ],
            "text/plain": [
              "                                            car_name  car_price_in_rupees  \\\n",
              "0  Hyundai Grand i10 Magna 1.2 Kappa VTVT [2017-2...                 4.45   \n",
              "1                         Maruti Suzuki Alto 800 Lxi                 2.93   \n",
              "2                            Tata Safari XZ Plus New                22.49   \n",
              "3                            Maruti Suzuki Ciaz ZXI+                 6.95   \n",
              "4     Jeep Compass Sport Plus 1.4 Petrol [2019-2020]                12.00   \n",
              "\n",
              "   kms_driven  fuel_type  city  year_of_manufacture  Age  \n",
              "0     22402.0          0     0                 2016    8  \n",
              "1     10344.0          0     1                 2019    5  \n",
              "2     12999.0          1     2                 2021    3  \n",
              "3     45000.0          0     3                 2016    8  \n",
              "4     11193.0          0     1                 2019    5  "
            ]
          },
          "execution_count": 33,
          "metadata": {},
          "output_type": "execute_result"
        }
      ],
      "source": [
        "data.head()"
      ]
    },
    {
      "cell_type": "code",
      "execution_count": null,
      "id": "e1fe972c",
      "metadata": {
        "id": "e1fe972c",
        "outputId": "995bb088-c88d-45cc-a37d-599c9c9e9111"
      },
      "outputs": [
        {
          "name": "stdout",
          "output_type": "stream",
          "text": [
            "<class 'pandas.core.frame.DataFrame'>\n",
            "RangeIndex: 2105 entries, 0 to 2104\n",
            "Data columns (total 7 columns):\n",
            " #   Column               Non-Null Count  Dtype  \n",
            "---  ------               --------------  -----  \n",
            " 0   car_name             2105 non-null   object \n",
            " 1   car_price_in_rupees  2105 non-null   float64\n",
            " 2   kms_driven           2105 non-null   float64\n",
            " 3   fuel_type            2105 non-null   int64  \n",
            " 4   city                 2105 non-null   int64  \n",
            " 5   year_of_manufacture  2105 non-null   int64  \n",
            " 6   Age                  2105 non-null   int64  \n",
            "dtypes: float64(2), int64(4), object(1)\n",
            "memory usage: 115.2+ KB\n"
          ]
        }
      ],
      "source": [
        "data.info()"
      ]
    },
    {
      "cell_type": "code",
      "execution_count": null,
      "id": "a3265e12",
      "metadata": {
        "id": "a3265e12"
      },
      "outputs": [],
      "source": [
        "from sklearn.model_selection import train_test_split"
      ]
    },
    {
      "cell_type": "code",
      "execution_count": null,
      "id": "caf2d537",
      "metadata": {
        "id": "caf2d537",
        "outputId": "a4f757fe-7afd-446d-daec-eb2c1676d25d"
      },
      "outputs": [
        {
          "name": "stdout",
          "output_type": "stream",
          "text": [
            "Requirement already satisfied: xgboost in c:\\users\\mayas\\anaconda3\\lib\\site-packages (2.0.3)\n",
            "Requirement already satisfied: scipy in c:\\users\\mayas\\anaconda3\\lib\\site-packages (from xgboost) (1.9.1)\n",
            "Requirement already satisfied: numpy in c:\\users\\mayas\\anaconda3\\lib\\site-packages (from xgboost) (1.21.5)\n",
            "Note: you may need to restart the kernel to use updated packages.\n"
          ]
        }
      ],
      "source": [
        "pip install xgboost"
      ]
    },
    {
      "cell_type": "code",
      "execution_count": null,
      "id": "dd9b4577",
      "metadata": {
        "scrolled": true,
        "id": "dd9b4577",
        "outputId": "1a591f91-9244-4191-e9ea-7c15cdf1ddfd"
      },
      "outputs": [
        {
          "name": "stdout",
          "output_type": "stream",
          "text": [
            "(1684, 5)\n",
            "(1684,)\n"
          ]
        }
      ],
      "source": [
        "from sklearn.linear_model import LinearRegression\n",
        "from sklearn.ensemble import RandomForestRegressor\n",
        "from sklearn.ensemble import GradientBoostingRegressor\n",
        "from xgboost import XGBRegressor\n",
        "print(x_train.shape)\n",
        "print(y_train.shape)"
      ]
    },
    {
      "cell_type": "code",
      "execution_count": null,
      "id": "e994f9a1",
      "metadata": {
        "id": "e994f9a1",
        "outputId": "81a07fe5-0ecc-45c5-e4a4-a10dfab9a030"
      },
      "outputs": [
        {
          "name": "stdout",
          "output_type": "stream",
          "text": [
            "(1684, 5)\n",
            "(1684,)\n"
          ]
        }
      ],
      "source": [
        "import pandas as pd\n",
        "from sklearn.linear_model import LinearRegression\n",
        "from sklearn.ensemble import RandomForestRegressor\n",
        "\n",
        "x_train = x_train.apply(pd.to_numeric, errors='coerce')\n",
        "y_train = pd.to_numeric(y_train, errors='coerce')\n",
        "\n",
        "valid_rows = ~x_train.isna().any(axis=1) & ~y_train.isna()\n",
        "x_train = x_train[valid_rows]\n",
        "y_train = y_train[valid_rows]\n",
        "\n",
        "if len(x_train) == 0 or len(y_train) == 0:\n",
        "    raise ValueError(\"No valid samples after data cleaning.\")\n",
        "\n",
        "lr = LinearRegression()\n",
        "lr.fit(x_train, y_train)\n",
        "\n",
        "rf = RandomForestRegressor()\n",
        "rf.fit(x_train, y_train)\n",
        "print(x_train.shape)\n",
        "print(y_train.shape)\n",
        "\n"
      ]
    },
    {
      "cell_type": "code",
      "execution_count": null,
      "id": "13fb949d",
      "metadata": {
        "id": "13fb949d",
        "outputId": "28d004da-2ba4-4821-f4d2-7673078f71fb"
      },
      "outputs": [
        {
          "data": {
            "text/plain": [
              "XGBRegressor(base_score=None, booster=None, callbacks=None,\n",
              "             colsample_bylevel=None, colsample_bynode=None,\n",
              "             colsample_bytree=None, device=None, early_stopping_rounds=None,\n",
              "             enable_categorical=False, eval_metric=None, feature_types=None,\n",
              "             gamma=None, grow_policy=None, importance_type=None,\n",
              "             interaction_constraints=None, learning_rate=None, max_bin=None,\n",
              "             max_cat_threshold=None, max_cat_to_onehot=None,\n",
              "             max_delta_step=None, max_depth=None, max_leaves=None,\n",
              "             min_child_weight=None, missing=nan, monotone_constraints=None,\n",
              "             multi_strategy=None, n_estimators=None, n_jobs=None,\n",
              "             num_parallel_tree=None, random_state=None, ...)"
            ]
          },
          "execution_count": 39,
          "metadata": {},
          "output_type": "execute_result"
        }
      ],
      "source": [
        "lr = LinearRegression()\n",
        "lr.fit(x_train,y_train)\n",
        "\n",
        "rf = RandomForestRegressor()\n",
        "rf.fit(x_train,y_train)\n",
        "\n",
        "xgb = GradientBoostingRegressor()\n",
        "xgb.fit(x_train,y_train)\n",
        "\n",
        "xg = XGBRegressor()\n",
        "xg.fit(x_train,y_train)"
      ]
    },
    {
      "cell_type": "code",
      "execution_count": null,
      "id": "90befd93",
      "metadata": {
        "id": "90befd93"
      },
      "outputs": [],
      "source": [
        "y_pred1 = lr.predict(x_test)\n",
        "y_pred2 = rf.predict(x_test)\n",
        "y_pred3 = xgb.predict(x_test)\n",
        "y_pred4 = xg.predict(x_test)"
      ]
    },
    {
      "cell_type": "code",
      "execution_count": null,
      "id": "e75b74f2",
      "metadata": {
        "id": "e75b74f2"
      },
      "outputs": [],
      "source": [
        "from sklearn import metrics"
      ]
    },
    {
      "cell_type": "code",
      "execution_count": null,
      "id": "4daf7329",
      "metadata": {
        "id": "4daf7329"
      },
      "outputs": [],
      "source": [
        "score1 = metrics.r2_score(y_test,y_pred1)\n",
        "score2 = metrics.r2_score(y_test,y_pred2)\n",
        "score3 = metrics.r2_score(y_test,y_pred3)\n",
        "score4 = metrics.r2_score(y_test,y_pred4)"
      ]
    },
    {
      "cell_type": "code",
      "execution_count": null,
      "id": "fdf6d797",
      "metadata": {
        "id": "fdf6d797",
        "outputId": "ef6b3d9e-7de7-4e60-e26e-847ee93d3a36"
      },
      "outputs": [
        {
          "name": "stdout",
          "output_type": "stream",
          "text": [
            "-665.9218827466347 -746.8358016777488 -4624.3233750664795 0.08985153393154965\n"
          ]
        }
      ],
      "source": [
        "print(score1,score2,score3,score4)"
      ]
    },
    {
      "cell_type": "code",
      "execution_count": null,
      "id": "3af87e19",
      "metadata": {
        "id": "3af87e19"
      },
      "outputs": [],
      "source": [
        "final_data = pd.DataFrame({'Models':['LR','RF','GBR','XG'],\n",
        "             \"R2_SCORE\":[score1,score2,score3,score4]})"
      ]
    },
    {
      "cell_type": "code",
      "execution_count": null,
      "id": "40542d82",
      "metadata": {
        "id": "40542d82",
        "outputId": "7b2b548a-5e6f-4d1f-8ff2-3beb1a36f8bf"
      },
      "outputs": [
        {
          "data": {
            "text/html": [
              "<div>\n",
              "<style scoped>\n",
              "    .dataframe tbody tr th:only-of-type {\n",
              "        vertical-align: middle;\n",
              "    }\n",
              "\n",
              "    .dataframe tbody tr th {\n",
              "        vertical-align: top;\n",
              "    }\n",
              "\n",
              "    .dataframe thead th {\n",
              "        text-align: right;\n",
              "    }\n",
              "</style>\n",
              "<table border=\"1\" class=\"dataframe\">\n",
              "  <thead>\n",
              "    <tr style=\"text-align: right;\">\n",
              "      <th></th>\n",
              "      <th>Models</th>\n",
              "      <th>R2_SCORE</th>\n",
              "    </tr>\n",
              "  </thead>\n",
              "  <tbody>\n",
              "    <tr>\n",
              "      <th>0</th>\n",
              "      <td>LR</td>\n",
              "      <td>-665.921883</td>\n",
              "    </tr>\n",
              "    <tr>\n",
              "      <th>1</th>\n",
              "      <td>RF</td>\n",
              "      <td>-746.835802</td>\n",
              "    </tr>\n",
              "    <tr>\n",
              "      <th>2</th>\n",
              "      <td>GBR</td>\n",
              "      <td>-4624.323375</td>\n",
              "    </tr>\n",
              "    <tr>\n",
              "      <th>3</th>\n",
              "      <td>XG</td>\n",
              "      <td>0.089852</td>\n",
              "    </tr>\n",
              "  </tbody>\n",
              "</table>\n",
              "</div>"
            ],
            "text/plain": [
              "  Models     R2_SCORE\n",
              "0     LR  -665.921883\n",
              "1     RF  -746.835802\n",
              "2    GBR -4624.323375\n",
              "3     XG     0.089852"
            ]
          },
          "execution_count": 45,
          "metadata": {},
          "output_type": "execute_result"
        }
      ],
      "source": [
        "final_data"
      ]
    },
    {
      "cell_type": "code",
      "execution_count": null,
      "id": "120ecaff",
      "metadata": {
        "id": "120ecaff",
        "outputId": "c61c04f4-b29d-4a04-bbd2-688831206553"
      },
      "outputs": [
        {
          "data": {
            "text/plain": [
              "<AxesSubplot:xlabel='Models', ylabel='R2_SCORE'>"
            ]
          },
          "execution_count": 46,
          "metadata": {},
          "output_type": "execute_result"
        },
        {
          "data": {
            "image/png": "[encoded data removed]",
            "text/plain": [
              "<Figure size 640x480 with 1 Axes>"
            ]
          },
          "metadata": {},
          "output_type": "display_data"
        }
      ],
      "source": [
        "sns.barplot(x='Models', y='R2_SCORE', data=final_data)"
      ]
    },
    {
      "cell_type": "code",
      "execution_count": null,
      "id": "c51ab73d",
      "metadata": {
        "id": "c51ab73d"
      },
      "outputs": [],
      "source": [
        "xg = XGBRegressor()\n",
        "xg_final = xg.fit(x,y)"
      ]
    },
    {
      "cell_type": "code",
      "execution_count": null,
      "id": "64e7931b",
      "metadata": {
        "id": "64e7931b"
      },
      "outputs": [],
      "source": [
        "import joblib"
      ]
    },
    {
      "cell_type": "code",
      "execution_count": null,
      "id": "9e403e67",
      "metadata": {
        "id": "9e403e67",
        "outputId": "7614455c-67d1-46be-bcc8-697ba6534b5a"
      },
      "outputs": [
        {
          "data": {
            "text/plain": [
              "['car_price_predictor']"
            ]
          },
          "execution_count": 49,
          "metadata": {},
          "output_type": "execute_result"
        }
      ],
      "source": [
        "joblib.dump(xg_final,'car_price_predictor')"
      ]
    },
    {
      "cell_type": "code",
      "execution_count": null,
      "id": "56b7a7cb",
      "metadata": {
        "id": "56b7a7cb"
      },
      "outputs": [],
      "source": [
        "model = joblib.load('car_price_predictor')"
      ]
    },
    {
      "cell_type": "code",
      "execution_count": null,
      "id": "6f2a6c69",
      "metadata": {
        "id": "6f2a6c69",
        "outputId": "e62e47a9-6fa9-4be8-8139-7e053ceeb7c3"
      },
      "outputs": [
        {
          "data": {
            "text/html": [
              "<div>\n",
              "<style scoped>\n",
              "    .dataframe tbody tr th:only-of-type {\n",
              "        vertical-align: middle;\n",
              "    }\n",
              "\n",
              "    .dataframe tbody tr th {\n",
              "        vertical-align: top;\n",
              "    }\n",
              "\n",
              "    .dataframe thead th {\n",
              "        text-align: right;\n",
              "    }\n",
              "</style>\n",
              "<table border=\"1\" class=\"dataframe\">\n",
              "  <thead>\n",
              "    <tr style=\"text-align: right;\">\n",
              "      <th></th>\n",
              "      <th>car_name</th>\n",
              "      <th>car_price_in_rupees</th>\n",
              "      <th>kms_driven</th>\n",
              "      <th>fuel_type</th>\n",
              "      <th>city</th>\n",
              "      <th>year_of_manufacture</th>\n",
              "      <th>Age</th>\n",
              "    </tr>\n",
              "  </thead>\n",
              "  <tbody>\n",
              "    <tr>\n",
              "      <th>0</th>\n",
              "      <td>Hyundai Grand i10 Magna 1.2 Kappa VTVT [2017-2...</td>\n",
              "      <td>4.45</td>\n",
              "      <td>22402.0</td>\n",
              "      <td>0</td>\n",
              "      <td>0</td>\n",
              "      <td>2016</td>\n",
              "      <td>8</td>\n",
              "    </tr>\n",
              "  </tbody>\n",
              "</table>\n",
              "</div>"
            ],
            "text/plain": [
              "                                            car_name  car_price_in_rupees  \\\n",
              "0  Hyundai Grand i10 Magna 1.2 Kappa VTVT [2017-2...                 4.45   \n",
              "\n",
              "   kms_driven  fuel_type  city  year_of_manufacture  Age  \n",
              "0     22402.0          0     0                 2016    8  "
            ]
          },
          "execution_count": 51,
          "metadata": {},
          "output_type": "execute_result"
        }
      ],
      "source": [
        "data.head(1)"
      ]
    },
    {
      "cell_type": "code",
      "execution_count": null,
      "id": "d56efcbd",
      "metadata": {
        "id": "d56efcbd"
      },
      "outputs": [],
      "source": [
        "import pandas as pd\n",
        "data_new = pd.DataFrame({\n",
        "    'car_price_in_rupees':5.59,\n",
        "    'kms_driven':22402.0,\n",
        "    'fuel_type':0,\n",
        "    'city':0,\n",
        "    'year_of_manufacture':2016,\n",
        "    'Age':8\n",
        "},index=[0])"
      ]
    },
    {
      "cell_type": "code",
      "execution_count": null,
      "id": "4afdb1b3",
      "metadata": {
        "id": "4afdb1b3",
        "outputId": "d94e46f3-68f6-4de7-9a09-185f18d493de"
      },
      "outputs": [
        {
          "data": {
            "text/plain": [
              "array([3.9524393], dtype=float32)"
            ]
          },
          "execution_count": 53,
          "metadata": {},
          "output_type": "execute_result"
        }
      ],
      "source": [
        "prediction_features = data_new[['kms_driven', 'fuel_type', 'city', 'year_of_manufacture', 'Age']]\n",
        "model.predict(prediction_features)"
      ]
    },
    {
      "cell_type": "code",
      "execution_count": null,
      "id": "2279cbf4",
      "metadata": {
        "id": "2279cbf4",
        "outputId": "1e7c95b0-76f7-420c-e672-e3a355ef268a"
      },
      "outputs": [
        {
          "name": "stdout",
          "output_type": "stream",
          "text": [
            "Car Purchase amount 6.741535\n",
            "Car Purchase amount 14.719792\n"
          ]
        }
      ],
      "source": [
        "from tkinter import Tk, Label, Entry, Button, mainloop\n",
        "import joblib\n",
        "import pandas as pd\n",
        "\n",
        "master = Tk()\n",
        "master.title(\"Car Price Prediction Using Machine Learning\")\n",
        "\n",
        "label = Label(master, text=\"Car Price Prediction Using Machine Learning\", bg=\"black\", fg=\"white\")\n",
        "label.grid(row=0, columnspan=2)\n",
        "\n",
        "\n",
        "\n",
        "def show_entry_fields():\n",
        "    p1 = float(e1.get())\n",
        "    p2 = float(e2.get())\n",
        "    p3 = float(e3.get())\n",
        "    p4 = float(e4.get())\n",
        "    p5 = float(e5.get())\n",
        "\n",
        "    model = joblib.load('car_price_predictor')\n",
        "    data_new = pd.DataFrame({\n",
        "        'kms_driven': p1,\n",
        "        'fuel_type': p2,\n",
        "        'city': p3,\n",
        "        'year_of_manufacture': p4,\n",
        "        'Age': p5\n",
        "    }, index=[0])\n",
        "\n",
        "    result = model.predict(data_new)\n",
        "\n",
        "    Label(master, text=\"Car Purchase amount\").grid(row=7)\n",
        "    Label(master, text=result[0]).grid(row=9)\n",
        "    print(\"Car Purchase amount\", result[0])\n",
        "\n",
        "Label(master, text=\"kms_driven\").grid(row=1)\n",
        "Label(master, text=\"fuel_type\").grid(row=2)\n",
        "Label(master, text=\"city\").grid(row=3)\n",
        "Label(master, text=\"year_of_manufacture\").grid(row=4)\n",
        "Label(master, text=\"Age\").grid(row=5)\n",
        "\n",
        "e1 = Entry(master)\n",
        "e2 = Entry(master)\n",
        "e3 = Entry(master)\n",
        "e4 = Entry(master)\n",
        "e5 = Entry(master)\n",
        "\n",
        "e1.grid(row=1, column=1)\n",
        "e2.grid(row=2, column=1)\n",
        "e3.grid(row=3, column=1)\n",
        "e4.grid(row=4, column=1)\n",
        "e5.grid(row=5, column=1)\n",
        "\n",
        "Button(master, text='Predict', command=show_entry_fields).grid()\n",
        "\n",
        "mainloop()\n"
      ]
    },
    {
      "cell_type": "code",
      "execution_count": null,
      "id": "c7b621e0",
      "metadata": {
        "id": "c7b621e0"
      },
      "outputs": [],
      "source": []
    },
    {
      "cell_type": "code",
      "execution_count": null,
      "id": "3dde3e73",
      "metadata": {
        "id": "3dde3e73"
      },
      "outputs": [],
      "source": []
    },
    {
      "cell_type": "code",
      "execution_count": null,
      "id": "7171ff1e",
      "metadata": {
        "id": "7171ff1e"
      },
      "outputs": [],
      "source": []
    }
  ],
  "metadata": {
    "kernelspec": {
      "display_name": "Python 3 (ipykernel)",
      "language": "python",
      "name": "python3"
    },
    "language_info": {
      "codemirror_mode": {
        "name": "ipython",
        "version": 3
      },
      "file_extension": ".py",
      "mimetype": "text/x-python",
      "name": "python",
      "nbconvert_exporter": "python",
      "pygments_lexer": "ipython3",
      "version": "3.9.13"
    },
    "colab": {
      "provenance": []
    }
  },
  "nbformat": 4,
  "nbformat_minor": 5
}